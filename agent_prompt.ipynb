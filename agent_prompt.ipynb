{
 "cells": [
  {
   "cell_type": "code",
   "execution_count": null,
   "id": "914401a5-9917-407e-a646-2aeeec823448",
   "metadata": {},
   "outputs": [],
   "source": [
    "{\n",
    "  \"routing\": {\n",
    "    \"is_technical\": true,\n",
    "    \"category\": \"coding_bug | coding_how_to | dev_env_tooling | data_ml_dl | sys_networks | theory_concept | other_technical | non_technical\",\n",
    "    \"language\": \"Python|Java|C++|... or null\",\n",
    "    \"subtopics\": [\"...\"],\n",
    "    \"confidence\": 0.0\n",
    "  },\n",
    "  \"response_type\": \"code_solution | theory_guidance | env_tooling | reject_non_technical\",\n",
    "  \"summary\": \"One-paragraph plain summary tailored to the student.\",\n",
    "  \"root_cause\": [\"bullet\", \"bullet\"],\n",
    "  \"solution\": {\n",
    "    \"code_language\": \"Python|Java|text\",\n",
    "    \"code\": \"full corrected/runnable snippet OR step-by-step commands; use comments for key lines.\"\n",
    "  },\n",
    "  \"steps_to_apply\": [\"step 1\", \"step 2\", \"step 3\"],\n",
    "  \"verification_checklist\": [\"what the student should observe to confirm the fix\"],\n",
    "  \"requests_for_more_info\": [\"ask up to 3 missing items or empty array\"],\n",
    "  \"references\": [\"official docs only, with titles (no raw URLs needed)\"],\n",
    "  \"escalation\": [\"when/how to escalate to human TA/admin if blocked\"],\n",
    "  \"red_flags\": [\"policy or safety concerns if any, else empty array\"]\n",
    "}\n"
   ]
  },
  {
   "cell_type": "markdown",
   "id": "228e9d7a-6732-423b-864a-5b529d198102",
   "metadata": {},
   "source": [
    "## Example 1 (coding)"
   ]
  },
  {
   "cell_type": "markdown",
   "id": "85567f33-b4d9-4b25-babb-f006a8fe8378",
   "metadata": {},
   "source": [
    "Complaint:\n",
    "My Python script keeps throwing \"ModuleNotFoundError: No module named 'pandas'\" whenever I try to run it in VSCode, but it works fine when I run it in Jupyter Notebook.\n",
    "Context (optional JSON, include if available):\n",
    "```json\n",
    "{\n",
    "  \"student_level\": \"beginner\",\n",
    "  \"runtime\": {\"os\":\"Windows\",\"python\":\"3.11\",\"ide\":\"VSCode\"},\n",
    "  \"course_context\": \"Data Science 101\",\n",
    "  \"policy\": {\"allow_full_solutions\": true}\n",
    "}\n"
   ]
  },
  {
   "cell_type": "markdown",
   "id": "982b7413-5ebc-4948-a4af-162732f1ddbf",
   "metadata": {},
   "source": [
    "## Example 2 (Therotical-Complaint)"
   ]
  },
  {
   "cell_type": "markdown",
   "id": "0ff88fd3-6124-478e-9d85-3498f00bda3b",
   "metadata": {},
   "source": [
    "Complaint:\n",
    "I don’t really understand the difference between bias and variance in machine learning models. My professor mentioned it but I can’t visualize it well.\n",
    "Context (optional JSON, include if available):\n",
    "```json\n",
    "{\n",
    "  \"student_level\": \"intermediate\",\n",
    "  \"course_context\": \"Machine Learning Fundamentals\",\n",
    "  \"policy\": {\"allow_full_solutions\": true}\n",
    "}"
   ]
  },
  {
   "cell_type": "markdown",
   "id": "4385aa41-c36d-45a5-9850-cfe848f8af02",
   "metadata": {},
   "source": [
    "## Example 3 — Non-Technical (will be rejected/redirected)"
   ]
  },
  {
   "cell_type": "markdown",
   "id": "e0a26b04-3e71-4f17-8815-eed99353a537",
   "metadata": {},
   "source": [
    "Complaint:\n",
    "I was charged twice for the lab fee this semester and the finance office has not replied to my emails.\n",
    "Context (optional JSON, include if available):\n",
    "```json\n",
    "{\n",
    "  \"student_level\": \"any\",\n",
    "  \"course_context\": \"N/A\"\n",
    "}\n"
   ]
  },
  {
   "cell_type": "code",
   "execution_count": null,
   "id": "d33bb1d2-8971-495b-bfe5-a51977d9b485",
   "metadata": {},
   "outputs": [],
   "source": []
  }
 ],
 "metadata": {
  "kernelspec": {
   "display_name": "Python 3 (ipykernel)",
   "language": "python",
   "name": "python3"
  },
  "language_info": {
   "codemirror_mode": {
    "name": "ipython",
    "version": 3
   },
   "file_extension": ".py",
   "mimetype": "text/x-python",
   "name": "python",
   "nbconvert_exporter": "python",
   "pygments_lexer": "ipython3",
   "version": "3.13.5"
  }
 },
 "nbformat": 4,
 "nbformat_minor": 5
}
